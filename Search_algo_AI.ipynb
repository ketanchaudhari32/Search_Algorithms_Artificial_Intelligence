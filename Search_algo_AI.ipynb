{
 "cells": [
  {
   "cell_type": "markdown",
   "id": "85ab36ad",
   "metadata": {
    "id": "85ab36ad"
   },
   "source": [
    "# Importing Libraries"
   ]
  },
  {
   "cell_type": "code",
   "execution_count": 22,
   "id": "287719dd",
   "metadata": {
    "id": "287719dd"
   },
   "outputs": [],
   "source": [
    "import pandas as pd\n",
    "import numpy as np\n",
    "import sys \n",
    "\n",
    "import warnings\n",
    "warnings.filterwarnings('ignore')"
   ]
  },
  {
   "cell_type": "markdown",
   "id": "7b9c2881",
   "metadata": {
    "id": "7b9c2881"
   },
   "source": [
    "# Getting data from tubedata.csv"
   ]
  },
  {
   "cell_type": "code",
   "execution_count": 23,
   "id": "e4f521b4",
   "metadata": {
    "id": "e4f521b4"
   },
   "outputs": [],
   "source": [
    "df = pd.read_csv('tubedata.csv', skipinitialspace= True, header= None)\n",
    "#[StartingStation], [EndingStation], [TubeLine], [AverageTimeTaken], [MainZone], [SecondaryZone]\n"
   ]
  },
  {
   "cell_type": "markdown",
   "id": "845d5a52",
   "metadata": {
    "id": "845d5a52"
   },
   "source": [
    "# Converting data to dictionary"
   ]
  },
  {
   "cell_type": "code",
   "execution_count": 26,
   "id": "3a1ef1a0",
   "metadata": {
    "colab": {
     "base_uri": "https://localhost:8080/"
    },
    "id": "3a1ef1a0",
    "outputId": "3ee529b6-a034-4eb5-9e85-0db6cbf9744b"
   },
   "outputs": [
    {
     "name": "stdout",
     "output_type": "stream",
     "text": [
      "271\n",
      "{'Harrow & Wealdstone': {'Kenton': [3, '5', '0']}, 'Kenton': {'South Kenton': [2, '4', '0'], 'Harrow & Wealdstone': [3, '5', '0']}, 'South Kenton': {'North Wembley': [2, '4', '0'], 'Kenton': [2, '4', '0']}, 'North Wembley': {'Wembley Central': [2, '4', '0'], 'South Kenton': [2, '4', '0']}, 'Wembley Central': {'Stonebridge Park': [3, '4', '0'], 'North Wembley': [2, '4', '0']}, 'Stonebridge Park': {'Harlesden': [2, '3', '0'], 'Wembley Central': [3, '4', '0']}, 'Harlesden': {'Willesden Junction': [2, '3', '0'], 'Stonebridge Park': [2, '3', '0']}, 'Willesden Junction': {'Kensal Green': [3, '3', '0'], 'Harlesden': [2, '3', '0']}, 'Kensal Green': {\"Queen's Park\": [3, '2', '0'], 'Willesden Junction': [3, '3', '0']}, \"Queen's Park\": {'Kilburn Park': [2, '2', '0'], 'Kensal Green': [3, '2', '0']}, 'Kilburn Park': {'Maida Vale': [2, '2', '0'], \"Queen's Park\": [2, '2', '0']}, 'Maida Vale': {'Warwick Avenue': [1, '2', '0'], 'Kilburn Park': [2, '2', '0']}, 'Warwick Avenue': {'Paddington': [2, '2', '0'], 'Maida Vale': [1, '2', '0']}, 'Paddington': {'Edgware Road': [3, '1', '0'], 'Bayswater': [2, '1', '0'], 'Warwick Avenue': [2, '2', '0'], 'Royal Oak': [1, '2', '0']}, 'Edgware Road': {'Marylebone': [2, '1', '0'], 'Baker Street': [3, '1', '0'], 'Paddington': [4, '1', '0']}, 'Marylebone': {'Baker Street': [1, '1', '0'], 'Edgware Road': [2, '1', '0']}, 'Baker Street': {\"Regent's Park\": [2, '1', '0'], 'Great Portland Street': [3, '1', '0'], 'Bond Street': [2, '1', '0'], 'Finchley Road': [6, '1', '0'], 'Marylebone': [1, '1', '0'], 'Edgware Road': [3, '1', '0'], \"St. John's Wood\": [4, '2', '0']}, \"Regent's Park\": {'Oxford Circus': [2, '1', '0'], 'Baker Street': [2, '1', '0']}, 'Oxford Circus': {'Piccadilly Circus': [2, '1', '0'], 'Tottenham Court Road': [2, '1', '0'], 'Green Park': [2, '1', '0'], \"Regent's Park\": [2, '1', '0'], 'Bond Street': [1, '1', '0'], 'Warren Street': [2, '1', '0']}, 'Piccadilly Circus': {'Charing Cross': [2, '1', '0'], 'Green Park': [1, '1', '0'], 'Oxford Circus': [2, '1', '0'], 'Leicester Square': [2, '1', '0']}, 'Charing Cross': {'Embankment': [1, '1', '0'], 'Piccadilly Circus': [2, '1', '0'], 'Leicester Square': [2, '1', '0']}, 'Embankment': {'Waterloo': [2, '1', '0'], 'Westminster': [2, '1', '0'], 'Temple': [2, '1', '0'], 'Charing Cross': [1, '1', '0']}, 'Waterloo': {'Lambeth North': [1, '1', '0'], 'Southwark': [1, '1', '0'], 'Kennington': [3, '1', '0'], 'Embankment': [2, '1', '0'], 'Westminster': [2, '1', '0'], 'Bank/Monument': [4, '1', '0']}, 'Lambeth North': {'Elephant & Castle': [3, '1', '0'], 'Waterloo': [1, '1', '0']}, 'West Ruislip': {'Ruislip Gardens': [3, '6', '0']}, 'Ruislip Gardens': {'South Ruislip': [1, '5', '0'], 'West Ruislip': [3, '6', '0']}, 'South Ruislip': {'Northolt': [3, '5', '0'], 'Ruislip Gardens': [1, '5', '0']}, 'Northolt': {'Greenford': [2, '5', '0'], 'South Ruislip': [3, '5', '0']}, 'Greenford': {'Perivale': [2, '4', '0'], 'Northolt': [2, '5', '0']}, 'Perivale': {'Hanger Lane': [2, '4', '0'], 'Greenford': [2, '4', '0']}, 'Hanger Lane': {'North Acton': [2, '3', '0'], 'Perivale': [2, '4', '0']}, 'Ealing Broadway': {'West Acton': [3, '3', '0'], 'Ealing Common': [4, '3', '0']}, 'West Acton': {'North Acton': [2, '3', '0'], 'Ealing Broadway': [3, '3', '0']}, 'North Acton': {'East Acton': [2, '2', '3'], 'Hanger Lane': [2, '3', '0'], 'West Acton': [2, '3', '0']}, 'East Acton': {'White City': [3, '2', '0'], 'North Acton': [2, '2', '3']}, 'White City': {\"Shepherd's Bush\": [3, '2', '0'], 'East Acton': [3, '2', '0']}, \"Shepherd's Bush\": {'Holland Park': [2, '2', '0'], 'Latimer Road': [2, '2', '0'], 'White City': [3, '2', '0'], 'Goldhawk Road': [1, '2', '0']}, 'Holland Park': {'Notting Hill Gate': [2, '2', '0'], \"Shepherd's Bush\": [2, '2', '0']}, 'Notting Hill Gate': {'Queensway': [2, '1', '2'], 'Bayswater': [3, '1', '0'], 'High Street Kensington': [3, '1', '0'], 'Holland Park': [2, '2', '0']}, 'Queensway': {'Lancaster Gate': [1, '1', '0'], 'Notting Hill Gate': [2, '1', '2']}, 'Lancaster Gate': {'Marble Arch': [3, '1', '0'], 'Queensway': [1, '1', '0']}, 'Marble Arch': {'Bond Street': [1, '1', '0'], 'Lancaster Gate': [3, '1', '0']}, 'Bond Street': {'Oxford Circus': [1, '1', '0'], 'Green Park': [2, '1', '0'], 'Marble Arch': [1, '1', '0'], 'Baker Street': [2, '1', '0']}, 'Tottenham Court Road': {'Holborn': [2, '1', '0'], 'Leicester Square': [1, '1', '0'], 'Oxford Circus': [2, '1', '0'], 'Goodge Street': [1, '1', '0']}, 'Holborn': {'Chancery Lane': [1, '1', '0'], 'Covent Garden': [1, '1', '0'], 'Tottenham Court Road': [2, '1', '0'], 'Russell Square': [2, '1', '0']}, 'Chancery Lane': {\"St. Paul's\": [2, '1', '0'], 'Holborn': [1, '1', '0']}, \"St. Paul's\": {'Bank/Monument': [2, '1', '0'], 'Chancery Lane': [2, '1', '0']}, 'Bank/Monument': {'Liverpool Street': [2, '1', '0'], 'Cannon Street': [2, '1', '0'], 'Tower Hill': [2, '1', '0'], 'London Bridge': [2, '1', '0'], 'Waterloo': [4, '1', '0'], \"St. Paul's\": [2, '1', '0'], 'Moorgate': [3, '1', '0']}, 'Liverpool Street': {'Bethnal Green': [3, '1', '0'], 'Aldgate': [2, '1', '0'], 'Aldgate East': [4, '1', '0'], 'Moorgate': [2, '1', '0'], 'Bank/Monument': [2, '1', '0']}, 'Bethnal Green': {'Mile End': [2, '2', '0'], 'Liverpool Street': [3, '1', '0']}, 'Mile End': {'Stratford': [4, '2', '0'], 'Bow Road': [1, '2', '0'], 'Bethnal Green': [2, '2', '0'], 'Stepney Green': [2, '2', '0']}, 'Stratford': {'Leyton': [2, '3', '0'], 'Mile End': [4, '2', '0'], 'West Ham': [3, '3', '0']}, 'Leyton': {'Leytonstone': [3, '3', '0'], 'Stratford': [2, '3', '0']}, 'Leytonstone': {'Wanstead': [2, '3', '4'], 'Snaresbrook': [2, '3', '4'], 'Leyton': [3, '3', '0']}, 'Wanstead': {'Redbridge': [2, '4', '0'], 'Leytonstone': [2, '3', '4']}, 'Redbridge': {'Gants Hill': [2, '4', '0'], 'Wanstead': [2, '4', '0']}, 'Gants Hill': {'Newbury Park': [3, '5', '6'], 'Redbridge': [2, '4', '0']}, 'Newbury Park': {'Barkingside': [2, '4', '0'], 'Gants Hill': [3, '5', '6']}, 'Barkingside': {'Fairlop': [2, '5', '0'], 'Newbury Park': [2, '4', '0']}, 'Fairlop': {'Hainault': [2, '5', '0'], 'Barkingside': [2, '5', '0']}, 'Hainault': {'Grange Hill': [2, '5', '0'], 'Fairlop': [2, '5', '0']}, 'Grange Hill': {'Chigwell': [2, '5', '0'], 'Hainault': [2, '5', '0']}, 'Chigwell': {'Roding Valley': [2, '5', '0'], 'Grange Hill': [2, '5', '0']}, 'Roding Valley': {'Woodford': [3, '5', '0'], 'Chigwell': [2, '5', '0']}, 'Snaresbrook': {'South Woodford': [2, '4', '0'], 'Leytonstone': [2, '3', '4']}, 'South Woodford': {'Woodford': [2, '4', '0'], 'Snaresbrook': [2, '4', '0']}, 'Woodford': {'Buckhurst Hill': [3, '4', '0'], 'Roding Valley': [3, '5', '0'], 'South Woodford': [2, '4', '0']}, 'Buckhurst Hill': {'Loughton': [2, '5', '0'], 'Woodford': [3, '4', '0']}, 'Loughton': {'Debden': [2, '6', '0'], 'Buckhurst Hill': [2, '5', '0']}, 'Debden': {'Theydon Bois': [3, '6', '0'], 'Loughton': [2, '6', '0']}, 'Theydon Bois': {'Epping': [2, '6', '0'], 'Debden': [3, '6', '0']}, 'Great Portland Street': {'Euston Square': [2, '1', '0'], 'Baker Street': [3, '1', '0']}, 'Euston Square': {\"King's Cross St. Pancras\": [2, '1', '0'], 'Great Portland Street': [2, '1', '0']}, \"King's Cross St. Pancras\": {'Farringdon': [4, '1', '0'], 'Euston Square': [2, '1', '0'], 'Angel': [2, '1', '0'], 'Russell Square': [2, '1', '0'], 'Euston': [2, '1', '0'], 'Caledonian Road': [5, '2', '0'], 'Highbury & Islington': [4, '2', '0']}, 'Farringdon': {'Barbican': [1, '1', '0'], \"King's Cross St. Pancras\": [4, '1', '0']}, 'Barbican': {'Moorgate': [2, '1', '0'], 'Farringdon': [1, '1', '0']}, 'Moorgate': {'Liverpool Street': [2, '1', '0'], 'Barbican': [2, '1', '0'], 'Bank/Monument': [3, '1', '0'], 'Old Street': [1, '1', '0']}, 'Aldgate': {'Tower Hill': [4, '1', '0'], 'Liverpool Street': [2, '1', '0']}, 'Tower Hill': {'Bank/Monument': [2, '1', '0'], 'Aldgate East': [2, '1', '0'], 'Aldgate': [4, '1', '0']}, 'Cannon Street': {'Mansion House': [1, '1', '0'], 'Bank/Monument': [2, '1', '0']}, 'Mansion House': {'Blackfriars': [1, '1', '0'], 'Cannon Street': [1, '1', '0']}, 'Blackfriars': {'Temple': [2, '1', '0'], 'Mansion House': [1, '1', '0']}, 'Temple': {'Embankment': [2, '1', '0'], 'Blackfriars': [1, '1', '0']}, 'Westminster': {\"St. James' Park\": [2, '1', '0'], 'Embankment': [2, '1', '0'], 'Waterloo': [2, '1', '0'], 'Green Park': [3, '1', '0']}, \"St. James' Park\": {'Victoria': [2, '1', '0'], 'Westminster': [2, '1', '0']}, 'Victoria': {'Sloane Square': [2, '1', '0'], \"St. James' Park\": [2, '1', '0'], 'Pimlico': [3, '1', '0'], 'Green Park': [2, '1', '0']}, 'Sloane Square': {'South Kensington': [2, '1', '0'], 'Victoria': [2, '1', '0']}, 'South Kensington': {'Gloucester Road': [1, '1', '0'], 'Sloane Square': [2, '1', '0'], 'Knightsbridge': [3, '1', '0']}, 'Gloucester Road': {'High Street Kensington': [4, '1', '0'], 'South Kensington': [1, '1', '0'], \"Earls' Court\": [3, '1', '2']}, 'High Street Kensington': {'Notting Hill Gate': [3, '1', '2'], \"Earls' Court\": [3, '1', '0'], 'Gloucester Road': [4, '1', '0']}, 'Bayswater': {'Paddington': [2, '1', '0'], 'Notting Hill Gate': [2, '1', '2']}, 'Ealing Common': {'Acton Town': [2, '3', '0'], 'North Ealing': [3, '3', '0'], 'Ealing Broadway': [4, '3', '0']}, 'Acton Town': {'Chiswick Park': [2, '3', '0'], 'South Ealing': [4, '3', '0'], 'Ealing Common': [2, '3', '0'], 'Turnham Green': [3, '2', '3']}, 'Chiswick Park': {'Turnham Green': [2, '3', '0'], 'Acton Town': [2, '3', '0']}, 'Wimbledon': {'Wimbledon Park': [3, '3', '0']}, 'Wimbledon Park': {'Southfields': [3, '3', '0'], 'Wimbledon': [3, '3', '0']}, 'Southfields': {'East Putney': [2, '3', '0'], 'Wimbledon Park': [3, '3', '0']}, 'East Putney': {'Putney Bridge': [2, '2', '3'], 'Southfields': [2, '3', '0']}, 'Putney Bridge': {'Parsons Green': [3, '2', '0'], 'East Putney': [2, '2', '3']}, 'Parsons Green': {'Fulham Broadway': [2, '2', '0'], 'Putney Bridge': [3, '2', '0']}, 'Fulham Broadway': {'West Brompton': [1, '2', '0'], 'Parsons Green': [2, '2', '0']}, 'West Brompton': {\"Earls' Court\": [2, '2', '0'], 'Fulham Broadway': [1, '2', '0']}, 'Olympia': {\"Earls' Court\": [3, '2', '0']}, 'Richmond': {'Kew Gardens': [3, '4', '0']}, 'Kew Gardens': {'Gunnersbury': [3, '3', '4'], 'Richmond': [3, '4', '0']}, 'Gunnersbury': {'Turnham Green': [3, '3', '0'], 'Kew Gardens': [3, '3', '4']}, 'Turnham Green': {'Stamford Brook': [1, '2', '3'], 'Acton Town': [3, '2', '3'], 'Chiswick Park': [2, '3', '0'], 'Gunnersbury': [3, '3', '0'], 'Hammersmith': [3, '2', '0']}, 'Stamford Brook': {'Ravenscourt Park': [2, '2', '0'], 'Turnham Green': [1, '2', '3']}, 'Ravenscourt Park': {'Hammersmith': [2, '2', '0'], 'Stamford Brook': [2, '2', '0']}, 'Hammersmith': {'Barons Court': [2, '2', '0'], 'Goldhawk Road': [2, '2', '0'], 'Turnham Green': [3, '2', '0'], 'Ravenscourt Park': [2, '2', '0']}, 'Barons Court': {'West Kensington': [2, '2', '0'], 'Hammersmith': [1, '2', '0'], \"Earls' Court\": [3, '1', '2']}, 'West Kensington': {\"Earls' Court\": [2, '2', '0'], 'Barons Court': [2, '2', '0']}, \"Earls' Court\": {'Gloucester Road': [2, '1', '0'], 'Barons Court': [3, '1', '2'], 'West Brompton': [2, '2', '0'], 'Olympia': [3, '2', '0'], 'High Street Kensington': [3, '1', '0'], 'West Kensington': [2, '2', '0']}, 'Aldgate East': {'Whitechapel': [2, '1', '0'], 'Tower Hill': [2, '1', '0'], 'Liverpool Street': [4, '1', '0']}, 'Whitechapel': {'Stepney Green': [3, '2', '0'], 'Shadwell': [2, '2', '0'], 'Aldgate East': [2, '1', '0'], 'Shoreditch': [2, '2', '0']}, 'Stepney Green': {'Mile End': [2, '2', '0'], 'Whitechapel': [3, '2', '0']}, 'Bow Road': {'Bromley-by-Bow': [2, '2', '0'], 'Mile End': [1, '2', '0']}, 'Bromley-by-Bow': {'West Ham': [2, '2', '3'], 'Bow Road': [2, '2', '0']}, 'West Ham': {'Plaistow': [2, '3', '0'], 'Stratford': [3, '3', '0'], 'Bromley-by-Bow': [2, '2', '3'], 'Canning Town': [3, '3', '0']}, 'Plaistow': {'Upton Park': [2, '3', '0'], 'West Ham': [2, '3', '0']}, 'Upton Park': {'East Ham': [2, '3', '0'], 'Plaistow': [2, '3', '0']}, 'East Ham': {'Barking': [4, '3', '4'], 'Upton Park': [2, '3', '0']}, 'Barking': {'Upney': [2, '4', '0'], 'East Ham': [4, '3', '4']}, 'Upney': {'Becontree': [2, '4', '0'], 'Barking': [2, '4', '0']}, 'Becontree': {'Dagenham Heathway': [3, '5', '0'], 'Upney': [2, '4', '0']}, 'Dagenham Heathway': {'Dagenham East': [4, '5', '0'], 'Becontree': [3, '5', '0']}, 'Dagenham East': {'Elm Park': [3, '5', '0'], 'Dagenham Heathway': [4, '5', '0']}, 'Elm Park': {'Hornchurch': [2, '6', '0'], 'Dagenham East': [3, '5', '0']}, 'Hornchurch': {'Upminster Bridge': [2, '6', '0'], 'Elm Park': [2, '6', '0']}, 'Upminster Bridge': {'Upminster': [3, '6', '0'], 'Hornchurch': [2, '6', '0']}, 'Shoreditch': {'Whitechapel': [2, '2', '0']}, 'Shadwell': {'Wapping': [1, '2', '0'], 'Whitechapel': [2, '2', '0']}, 'Wapping': {'Rotherhithe': [1, '2', '0'], 'Shadwell': [1, '2', '0']}, 'Rotherhithe': {'Canada Water': [1, '2', '0'], 'Wapping': [1, '2', '0']}, 'Canada Water': {'Surrey Quays': [2, '2', '0'], 'Canary Wharf': [3, '2', '0'], 'Rotherhithe': [1, '2', '0'], 'Bermondsey': [2, '2', '0']}, 'Surrey Quays': {'New Cross Gate': [4, '2', '0'], 'New Cross': [4, '2', '0'], 'Canada Water': [2, '2', '0']}, 'Goldhawk Road': {\"Shepherd's Bush\": [1, '2', '0'], 'Hammersmith': [2, '2', '0']}, 'Latimer Road': {'Ladbroke Grove': [1, '2', '0'], \"Shepherd's Bush\": [2, '2', '0']}, 'Ladbroke Grove': {'Westbourne Park': [2, '2', '0'], 'Latimer Road': [1, '2', '0']}, 'Westbourne Park': {'Royal Oak': [2, '2', '0'], 'Ladbroke Grove': [2, '2', '0']}, 'Royal Oak': {'Paddington': [1, '2', '0'], 'Westbourne Park': [2, '2', '0']}, 'Stanmore': {'Canons Park': [2, '5', '0']}, 'Canons Park': {'Queensbury': [2, '5', '0'], 'Stanmore': [2, '5', '0']}, 'Queensbury': {'Kingsbury': [2, '4', '0'], 'Canons Park': [2, '5', '0']}, 'Kingsbury': {'Wembley Park': [4, '4', '0'], 'Queensbury': [2, '4', '0']}, 'Wembley Park': {'Neasden': [4, '4', '0'], 'Preston Road': [3, '4', '0'], 'Kingsbury': [4, '4', '0'], 'Finchley Road': [7, '2', '0']}, 'Neasden': {'Dollis Hill': [2, '3', '0'], 'Wembley Park': [4, '4', '0']}, 'Dollis Hill': {'Willesden Green': [2, '3', '0'], 'Neasden': [2, '3', '0']}, 'Willesden Green': {'Kilburn': [2, '2', '3'], 'Dollis Hill': [2, '3', '0']}, 'Kilburn': {'West Hampstead': [2, '2', '0'], 'Willesden Green': [2, '2', '3']}, 'West Hampstead': {'Finchley Road': [1, '2', '0'], 'Kilburn': [2, '2', '0']}, 'Finchley Road': {'Swiss Cottage': [2, '2', '0'], 'Wembley Park': [7, '2', '0'], 'West Hampstead': [1, '2', '0'], 'Baker Street': [6, '1', '0']}, 'Swiss Cottage': {\"St. John's Wood\": [1, '2', '0'], 'Finchley Road': [2, '2', '0']}, \"St. John's Wood\": {'Baker Street': [4, '2', '0'], 'Swiss Cottage': [1, '2', '0']}, 'Green Park': {'Westminster': [3, '1', '0'], 'Hyde Park Corner': [2, '1', '0'], 'Victoria': [2, '1', '0'], 'Bond Street': [2, '1', '0'], 'Piccadilly Circus': [1, '1', '0'], 'Oxford Circus': [2, '1', '0']}, 'Southwark': {'London Bridge': [2, '1', '0'], 'Waterloo': [1, '1', '0']}, 'London Bridge': {'Bermondsey': [3, '1', '0'], 'Borough': [2, '1', '0'], 'Southwark': [2, '1', '0'], 'Bank/Monument': [2, '1', '0']}, 'Bermondsey': {'Canada Water': [2, '2', '0'], 'London Bridge': [3, '1', '0']}, 'Canary Wharf': {'North Greenwich': [3, '2', '0'], 'Canada Water': [3, '2', '0']}, 'North Greenwich': {'Canning Town': [3, '2', '3'], 'Canary Wharf': [3, '2', '0']}, 'Canning Town': {'West Ham': [3, '3', '0'], 'North Greenwich': [3, '2', '3']}, 'Preston Road': {'Northwick Park': [2, '4', '0'], 'Wembley Park': [3, '4', '0']}, 'Northwick Park': {'Harrow-on-the-Hill': [2, '4', '0'], 'Preston Road': [2, '4', '0']}, 'Harrow-on-the-Hill': {'North Harrow': [3, '5', '0'], 'West Harrow': [2, '5', '0'], 'Northwick Park': [2, '4', '0']}, 'North Harrow': {'Pinner': [3, '5', '0'], 'Harrow-on-the-Hill': [3, '5', '0']}, 'Pinner': {'Northwood Hills': [2, '5', '0'], 'North Harrow': [3, '5', '0']}, 'Northwood Hills': {'Northwood': [2, '6', '0'], 'Pinner': [2, '5', '0']}, 'Northwood': {'Moor Park': [3, '6', '0'], 'Northwood Hills': [2, '6', '0']}, 'West Harrow': {'Rayners Lane': [3, '5', '0'], 'Harrow-on-the-Hill': [2, '5', '0']}, 'Rayners Lane': {'Eastcote': [2, '5', '0'], 'West Harrow': [3, '5', '0'], 'South Harrow': [3, '5', '0']}, 'Eastcote': {'Ruislip Manor': [2, '5', '0'], 'Rayners Lane': [2, '5', '0']}, 'Ruislip Manor': {'Ruislip': [2, '6', '0'], 'Eastcote': [2, '5', '0']}, 'Ruislip': {'Ickenham': [3, '6', '0'], 'Ruislip Manor': [2, '6', '0']}, 'Ickenham': {'Hillingdon': [2, '6', '0'], 'Ruislip': [3, '6', '0']}, 'Hillingdon': {'Uxbridge': [3, '6', '0'], 'Ickenham': [2, '6', '0']}, 'Moor Park': {'Croxley': [4, '6', 'a'], 'Rickmansworth': [4, '6', 'a'], 'Northwood': [3, '6', '0']}, 'Croxley': {'Watford': [3, 'a', '0'], 'Moor Park': [4, '6', 'a']}, 'Rickmansworth': {'Chorleywood': [4, 'a', '0'], 'Moor Park': [4, '6', 'a']}, 'Chorleywood': {'Chalfont & Latimer': [4, 'b', '0'], 'Rickmansworth': [4, 'a', '0']}, 'Chalfont & Latimer': {'Chesham': [8, 'c', '0'], 'Chorleywood': [4, 'b', '0']}, 'Chesham': {'Amersham': [4, 'd', '0'], 'Chalfont & Latimer': [8, 'c', '0']}, 'Mill Hill East': {'Finchley Central': [3, '4', '0']}, 'High Barnet': {'Totteridge & Whetstone': [3, '5', '0']}, 'Totteridge & Whetstone': {'Woodside Park': [3, '4', '0'], 'High Barnet': [3, '5', '0']}, 'Woodside Park': {'West Finchley': [1, '4', '0'], 'Totteridge & Whetstone': [3, '4', '0']}, 'West Finchley': {'Finchley Central': [2, '4', '0'], 'Woodside Park': [1, '4', '0']}, 'Finchley Central': {'East Finchley': [4, '4', '0'], 'Mill Hill East': [3, '4', '0'], 'West Finchley': [2, '4', '0']}, 'East Finchley': {'Highgate': [2, '3', '0'], 'Finchley Central': [4, '4', '0']}, 'Highgate': {'Archway': [3, '3', '0'], 'East Finchley': [2, '3', '0']}, 'Archway': {'Tufnell Park': [2, '2', '3'], 'Highgate': [3, '3', '0']}, 'Tufnell Park': {'Kentish Town': [2, '2', '0'], 'Archway': [2, '2', '3']}, 'Kentish Town': {'Camden Town': [2, '2', '0'], 'Tufnell Park': [2, '2', '0']}, 'Edgware': {'Burnt Oak': [3, '5', '0']}, 'Burnt Oak': {'Colindale': [2, '4', '0'], 'Edgware': [3, '5', '0']}, 'Colindale': {'Hendon Central': [3, '4', '0'], 'Burnt Oak': [2, '4', '0']}, 'Hendon Central': {'Brent Cross': [2, '3', '4'], 'Colindale': [3, '4', '0']}, 'Brent Cross': {'Golders Green': [3, '3', '0'], 'Hendon Central': [2, '3', '4']}, 'Golders Green': {'Hampstead': [4, '3', '0'], 'Brent Cross': [3, '3', '0']}, 'Hampstead': {'Belsize Park': [2, '2', '3'], 'Golders Green': [4, '3', '0']}, 'Belsize Park': {'Chalk Farm': [2, '2', '0'], 'Hampstead': [2, '2', '3']}, 'Chalk Farm': {'Camden Town': [2, '2', '0'], 'Belsize Park': [2, '2', '0']}, 'Camden Town': {'Mornington Crescent': [1, '2', '0'], 'Kentish Town': [2, '2', '0'], 'Chalk Farm': [2, '2', '0']}, 'Mornington Crescent': {'Euston': [2, '2', '0'], 'Camden Town': [1, '2', '0']}, 'Euston': {'Warren Street': [1, '1', '0'], \"King's Cross St. Pancras\": [2, '1', '0'], 'Mornington Crescent': [2, '2', '0']}, 'Warren Street': {'Goodge Street': [2, '1', '0'], 'Oxford Circus': [2, '1', '0'], 'Euston': [1, '1', '0']}, 'Goodge Street': {'Tottenham Court Road': [1, '1', '0'], 'Warren Street': [2, '1', '0']}, 'Leicester Square': {'Charing Cross': [2, '1', '0'], 'Piccadilly Circus': [2, '1', '0'], 'Tottenham Court Road': [1, '1', '0'], 'Covent Garden': [1, '1', '0']}, 'Angel': {'Old Street': [3, '1', '0'], \"King's Cross St. Pancras\": [2, '1', '0']}, 'Old Street': {'Moorgate': [1, '1', '0'], 'Angel': [3, '1', '0']}, 'Borough': {'Elephant & Castle': [1, '1', '0'], 'London Bridge': [2, '1', '0']}, 'Elephant & Castle': {'Kennington': [2, '1', '2'], 'Lambeth North': [3, '1', '0'], 'Borough': [1, '1', '0']}, 'Kennington': {'Oval': [2, '2', '0'], 'Waterloo': [3, '1', '0'], 'Elephant & Castle': [2, '1', '2']}, 'Oval': {'Stockwell': [3, '2', '0'], 'Kennington': [2, '2', '0']}, 'Stockwell': {'Clapham North': [1, '2', '0'], 'Brixton': [2, '2', '0'], 'Oval': [3, '2', '0'], 'Vauxhall': [3, '1', '2']}, 'Clapham North': {'Clapham Common': [2, '2', '0'], 'Stockwell': [1, '2', '0']}, 'Clapham Common': {'Clapham South': [2, '2', '0'], 'Clapham North': [2, '2', '0']}, 'Clapham South': {'Balham': [2, '2', '3'], 'Clapham Common': [2, '2', '0']}, 'Balham': {'Tooting Bec': [1, '3', '0'], 'Clapham South': [2, '2', '3']}, 'Tooting Bec': {'Tooting Broadway': [2, '3', '0'], 'Balham': [1, '3', '0']}, 'Tooting Broadway': {'Colliers Wood': [2, '3', '0'], 'Tooting Bec': [2, '3', '0']}, 'Colliers Wood': {'South Wimbledon': [2, '3', '0'], 'Tooting Broadway': [2, '3', '0']}, 'South Wimbledon': {'Morden': [4, '3', '4'], 'Colliers Wood': [2, '3', '0']}, 'Cockfosters': {'Oakwood': [4, '5', '0']}, 'Oakwood': {'Southgate': [3, '5', '0'], 'Cockfosters': [4, '5', '0']}, 'Southgate': {'Arnos Grove': [3, '4', '0'], 'Oakwood': [3, '5', '0']}, 'Arnos Grove': {'Bounds Green': [3, '4', '0'], 'Southgate': [3, '4', '0']}, 'Bounds Green': {'Wood Green': [2, '3', '4'], 'Arnos Grove': [3, '4', '0']}, 'Wood Green': {'Turnpike Lane': [2, '3', '0'], 'Bounds Green': [2, '3', '4']}, 'Turnpike Lane': {'Manor House': [3, '3', '0'], 'Wood Green': [2, '3', '0']}, 'Manor House': {'Finsbury Park': [2, '2', '3'], 'Turnpike Lane': [3, '3', '0']}, 'Finsbury Park': {'Arsenal': [2, '2', '0'], 'Highbury & Islington': [2, '2', '0'], 'Manor House': [2, '2', '3'], 'Seven Sisters': [4, '3', '0']}, 'Arsenal': {'Holloway Road': [1, '2', '0'], 'Finsbury Park': [2, '2', '0']}, 'Holloway Road': {'Caledonian Road': [2, '2', '0'], 'Arsenal': [1, '2', '0']}, 'Caledonian Road': {\"King's Cross St. Pancras\": [5, '2', '0'], 'Holloway Road': [2, '2', '0']}, 'Russell Square': {'Holborn': [2, '1', '0'], \"King's Cross St. Pancras\": [2, '1', '0']}, 'Covent Garden': {'Leicester Square': [1, '1', '0'], 'Holborn': [1, '1', '0']}, 'Hyde Park Corner': {'Knightsbridge': [2, '1', '0'], 'Green Park': [2, '1', '0']}, 'Knightsbridge': {'South Kensington': [3, '1', '0'], 'Hyde Park Corner': [2, '1', '0']}, 'South Ealing': {'Northfields': [1, '3', '0'], 'Acton Town': [4, '3', '0']}, 'Northfields': {'Boston Manor': [2, '3', '0'], 'South Ealing': [1, '3', '0']}, 'Boston Manor': {'Osterley': [3, '4', '0'], 'Northfields': [2, '3', '0']}, 'Osterley': {'Hounslow East': [2, '4', '0'], 'Boston Manor': [3, '4', '0']}, 'Hounslow East': {'Hounslow Central': [2, '4', '0'], 'Osterley': [2, '4', '0']}, 'Hounslow Central': {'Hounslow West': [2, '4', '0'], 'Hounslow East': [2, '4', '0']}, 'Hounslow West': {'Hatton Cross': [4, '5', '0'], 'Hounslow Central': [2, '4', '0']}, 'Hatton Cross': {'Heathrow Terminal 3': [3, '5', '6'], 'Hounslow West': [4, '5', '0'], 'Heathrow Terminals 1,2,3': [3, '6', '0']}, 'Heathrow Terminal 4': {'Heathrow Terminals 1,2,3': [5, '6', '0']}, 'Heathrow Terminals 1,2,3': {'Hatton Cross': [3, '6', '0'], 'Heathrow Terminal 4': [5, '6', '0']}, 'North Ealing': {'Park Royal': [2, '3', '0'], 'Ealing Common': [3, '3', '0']}, 'Park Royal': {'Alperton': [3, '3', '0'], 'North Ealing': [2, '3', '0']}, 'Alperton': {'Sudbury Town': [2, '4', '0'], 'Park Royal': [3, '3', '0']}, 'Sudbury Town': {'Sudbury Hill': [3, '4', '0'], 'Alperton': [2, '4', '0']}, 'Sudbury Hill': {'South Harrow': [2, '4', '0'], 'Sudbury Town': [3, '4', '0']}, 'South Harrow': {'Rayners Lane': [3, '5', '0'], 'Sudbury Hill': [2, '4', '0']}, 'Walthamstow Central': {'Blackhorse Road': [2, '3', '0']}, 'Blackhorse Road': {'Tottenham Hale': [2, '3', '0'], 'Walthamstow Central': [2, '3', '0']}, 'Tottenham Hale': {'Seven Sisters': [3, '3', '0'], 'Blackhorse Road': [2, '3', '0']}, 'Seven Sisters': {'Finsbury Park': [4, '3', '0'], 'Tottenham Hale': [3, '3', '0']}, 'Highbury & Islington': {\"King's Cross St. Pancras\": [4, '2', '0'], 'Finsbury Park': [2, '2', '0']}, 'Pimlico': {'Vauxhall': [1, '1', '0'], 'Victoria': [3, '1', '0']}, 'Vauxhall': {'Stockwell': [3, '1', '2'], 'Pimlico': [1, '1', '0']}, 'Epping': {'Theydon Bois': [2, '6', '0']}, 'Upminster': {'Upminster Bridge': [3, '6', '0']}, 'New Cross Gate': {'Surrey Quays': [4, '2', '0']}, 'New Cross': {'Surrey Quays': [4, '2', '0']}, 'Uxbridge': {'Hillingdon': [3, '6', '0']}, 'Watford': {'Croxley': [3, 'a', '0']}, 'Amersham': {'Chesham': [4, 'd', '0']}, 'Morden': {'South Wimbledon': [4, '3', '4']}, 'Heathrow Terminal 3': {'Hatton Cross': [3, '5', '6']}, 'Brixton': {'Stockwell': [2, '2', '0']}}\n"
     ]
    }
   ],
   "source": [
    "tube_dict = dict() #creating empty dict to store tube data\n",
    "\n",
    "start_stations = df[0] #getting values of all start stations \n",
    "end_stations = df[1] #getting values of all end stations\n",
    "times = df[3]  #getting values of time taken between stations\n",
    "main_zones = df[4]  #getting values of all primary stations\n",
    "sec_zones = df[5] #getting values of all secondary stations\n",
    "\n",
    "#adding one direction\n",
    "for i in range(df.shape[0]): #iterating over lenth of dataframe\n",
    "    start_node = start_stations[i] #start station\n",
    "    end_node = end_stations[i] #end station\n",
    "    time_taken = times[i] #time taken\n",
    "    main_zone =  main_zones[i] #primary zone \n",
    "    sec_zone = sec_zones[i] #secondary zone\n",
    "    \n",
    "    if start_node not in tube_dict: #checking if start station has a value in dictionary\n",
    "        #if start node is not present then add value to start node in dictionary\n",
    "        tube_dict[start_node] = {end_node:[time_taken,main_zone,sec_zone]} \n",
    "        \n",
    "        \n",
    "    else:\n",
    "        #if start node is present then just update with new end nodes\n",
    "        tube_dict[start_node].update({end_node:[time_taken,main_zone,sec_zone]})\n",
    "        \n",
    "#adding reverse direction\n",
    "for i in range(df.shape[0]): #iterating over lenth of dataframe\n",
    "    start_node = end_stations[i] #start station\n",
    "    end_node = start_stations[i] #end station\n",
    "    time_taken = times[i] #time taken\n",
    "    main_zone =  main_zones[i] #primary zone \n",
    "    sec_zone = sec_zones[i] #secondary zone\n",
    "    \n",
    "    if start_node not in tube_dict: #checking if start station has a value in dictionary\n",
    "        #if start node is not present then add value to start node in dictionary\n",
    "        tube_dict[start_node] = {end_node:[time_taken,main_zone,sec_zone]} \n",
    "    else:\n",
    "        #if start node is present then just update with new end nodes\n",
    "        tube_dict[start_node].update({end_node:[time_taken,main_zone,sec_zone]})\n",
    "\n",
    "print(len(tube_dict)) #len of created tube dict\n",
    "\n",
    "print(tube_dict) #print tube dict"
   ]
  },
  {
   "cell_type": "code",
   "execution_count": 4,
   "id": "b0832471",
   "metadata": {
    "id": "b0832471"
   },
   "outputs": [],
   "source": [
    "#path printing helper function\n",
    "def print_path(path, cost, nodes):\n",
    "    print('Shortest path : ',end='')\n",
    "    try:\n",
    "        print(path[0],end='')\n",
    "        for i in range(1,len(path)):\n",
    "            print('->',end='')\n",
    "            print(path[i],end='')\n",
    "        print(f'\\nPath cost : {cost}')\n",
    "        print(f'Nodes Expanded : {nodes}')\n",
    "    except:\n",
    "        print('Path not found') "
   ]
  },
  {
   "cell_type": "markdown",
   "id": "7dd7d670",
   "metadata": {
    "id": "7dd7d670"
   },
   "source": [
    "# Agenda-based Search"
   ]
  },
  {
   "cell_type": "markdown",
   "id": "07436a7a",
   "metadata": {
    "id": "07436a7a"
   },
   "source": [
    "## DFS"
   ]
  },
  {
   "cell_type": "code",
   "execution_count": 5,
   "id": "06d3ef2a",
   "metadata": {
    "id": "06d3ef2a"
   },
   "outputs": [],
   "source": [
    "\n",
    "def depth_first_search(graph, start, end, cost, visited, node_expanded, limit):\n",
    "    \"\"\"\n",
    "    graph - tube dictionary\n",
    "    start - start station\n",
    "    end - final destination\n",
    "    cost - cost to reach station\n",
    "    visitied - list to store data of visited station\n",
    "    node_expanded - track of child explored during search\n",
    "    \"\"\"\n",
    "    if limit == 0:\n",
    "        return [], 0, 0\n",
    "    if start == end : #check if destination is reached\n",
    "        return [start], cost, node_expanded \n",
    "    \n",
    "    next_already_visited = visited.copy() #created temp copy of visited codes\n",
    "    next_already_visited.append(start) # Add current station to already_visited\n",
    "    \n",
    "    if start in graph: #check if start station is in dictionary\n",
    "        paths = [(node, val[0]) for node, val in graph[start].items()] #getting all child nodes of start sation\n",
    "        paths = paths[::-1] #getting last element in the start node neighbours\n",
    "        for i in range(len(paths)): #iterationg out length of neighbours\n",
    "            if paths[i][0] not in visited: #check if neighbour station not in visited node\n",
    "                #perform depth first search recursively\n",
    "                visited_nodes, cost, node_expanded = depth_first_search(graph, paths[i][0], end, cost + paths[i][1], next_already_visited, node_expanded+1, limit-1)\n",
    "                if visited_nodes != []:#check if function does not return null value\n",
    "                    return [start] + visited_nodes, cost, node_expanded #return shortest path\n",
    "    \n",
    "    return [], cost, node_expanded  #if graph start station has no neighbours then return null values"
   ]
  },
  {
   "cell_type": "code",
   "execution_count": 6,
   "id": "90eb20f8",
   "metadata": {
    "colab": {
     "base_uri": "https://localhost:8080/"
    },
    "id": "90eb20f8",
    "outputId": "34579d86-e5fe-4b84-f1ba-61c376a2f81b"
   },
   "outputs": [
    {
     "name": "stdout",
     "output_type": "stream",
     "text": [
      "Shortest path : Euston->King's Cross St. Pancras->Russell Square->Holborn->Tottenham Court Road->Goodge Street->Warren Street->Oxford Circus->Bond Street->Baker Street->Edgware Road->Paddington->Royal Oak->Westbourne Park->Ladbroke Grove->Latimer Road->Shepherd's Bush->Goldhawk Road->Hammersmith->Barons Court->Earls' Court->High Street Kensington->Gloucester Road->South Kensington->Knightsbridge->Hyde Park Corner->Green Park->Victoria\n",
      "Path cost : 2\n",
      "Nodes Expanded : 1\n"
     ]
    }
   ],
   "source": [
    "path, cost, nodes = depth_first_search(tube_dict, 'Euston', 'Victoria', 0, [], 0, 30)\n",
    "print_path(path, cost, nodes)"
   ]
  },
  {
   "cell_type": "markdown",
   "id": "bd6e18f7",
   "metadata": {
    "id": "bd6e18f7"
   },
   "source": [
    "## BFS"
   ]
  },
  {
   "cell_type": "code",
   "execution_count": 7,
   "id": "c186acd5",
   "metadata": {
    "id": "c186acd5"
   },
   "outputs": [],
   "source": [
    "def breadth_first_search(graph, start, end):\n",
    "    \"\"\"\n",
    "    graph - tube dictionary\n",
    "    start - start station\n",
    "    end - final destination\n",
    "    \"\"\"\n",
    "    visited = [start] #array to store visited nodes and adding starting station in visited node\n",
    "    total_paths = [[start]] #array to store all possible paths\n",
    "    total_cost = [[0]] #array to store all possible cost \n",
    "    node_expanded = 0 #variable to store value of expanded nodes \n",
    "    \n",
    "    while len(total_paths)!= 0: #iterating untill all possible paths are not explored\n",
    "        \n",
    "        new_total_paths = list() #array to store new paths from root station\n",
    "        new_total_costs = list() #array to store new cost from root station\n",
    "        \n",
    "        for path,cost in zip(total_paths,total_cost): #pasing over new paths and cost\n",
    "            if path[-1] in graph: #check if start station has neighbours station present\n",
    "                for node, val in graph[path[-1]].items():  #getting data of neighbour station\n",
    "                    if node == end: #check if end is reached\n",
    "                        return path + [end], sum(cost) + val[0], node_expanded +1 #return shortest path, cost and nodes expanded\n",
    "                    \n",
    "                    if node not in visited: #check if neighbour has not been explored\n",
    "                        #continue the search\n",
    "                        node_expanded += 1 #increment node expanded\n",
    "                        visited.append(node) #add current node in visited\n",
    "                        \n",
    "                        #update new paths and costs\n",
    "                        new_total_paths = new_total_paths + [path + [node]] \n",
    "                        new_total_costs = new_total_costs + [cost + [val[0]]]\n",
    "        \n",
    "        #update total path and cost explored during each graph level\n",
    "        total_paths = new_total_paths\n",
    "        total_cost = new_total_costs\n",
    "\n",
    "    return [],0, -1  #if end station is not reached then return null values "
   ]
  },
  {
   "cell_type": "code",
   "execution_count": 8,
   "id": "9d87efdc",
   "metadata": {
    "colab": {
     "base_uri": "https://localhost:8080/"
    },
    "id": "9d87efdc",
    "outputId": "6f1d2029-7b26-4b48-d4e0-587417edeb18"
   },
   "outputs": [
    {
     "name": "stdout",
     "output_type": "stream",
     "text": [
      "Shortest path : Euston->Warren Street->Oxford Circus->Green Park->Victoria\n",
      "Path cost : 7\n",
      "Nodes Expanded : 30\n"
     ]
    }
   ],
   "source": [
    "path, cost, nodes = breadth_first_search(tube_dict, 'Euston', 'Victoria')\n",
    "print_path(path, cost, nodes)"
   ]
  },
  {
   "cell_type": "markdown",
   "id": "aa8d87da",
   "metadata": {
    "id": "aa8d87da"
   },
   "source": [
    "## UCS"
   ]
  },
  {
   "cell_type": "code",
   "execution_count": 20,
   "id": "6b2638ba",
   "metadata": {
    "id": "6b2638ba"
   },
   "outputs": [],
   "source": [
    "def pop_frontier(frontier):\n",
    "    if len(frontier) == 0:\n",
    "        return None\n",
    "    \n",
    "    min_val = sys.maxsize\n",
    "    max_values = list()\n",
    "    for key, path in frontier:\n",
    "        if key == min_val:\n",
    "            max_values.append(path)\n",
    "        elif key < min_val:\n",
    "            min_val = key\n",
    "            max_values.clear()\n",
    "            max_values.append(path)\n",
    "\n",
    "    max_values = sorted(max_values, key=lambda x: x[-1])\n",
    "    # max_values.sort()\n",
    "    desired_value = max_values[0]\n",
    "    frontier.remove((min_val, max_values[0]))\n",
    "    return min_val, desired_value\n",
    "\n",
    "\n",
    "def get_frontier_params_new(node, frontier):\n",
    "    for i in range(len(frontier)):\n",
    "        curr_tuple = frontier[i]\n",
    "        cost, path = curr_tuple\n",
    "        if path[-1] == node:\n",
    "            return True, i, cost, path\n",
    "\n",
    "    return False, None, None, None\n",
    "\n",
    "\n",
    "def uniform_cost_search(graph, start, end):   \n",
    "    \"\"\"\n",
    "    graph - tube dictionary\n",
    "    start - start station\n",
    "    end - final destination\n",
    "    \"\"\"\n",
    "    path = list()    #array to store path data\n",
    "    explored_nodes = list() #array to store explored nodes data   \n",
    "    \n",
    "    if start == end: #check if starting station is same as end station   \n",
    "        return path, 0, len(explored_nodes) #if so return null values    \n",
    "    \n",
    "    path.append(start)  #add starting sation to path data\n",
    "    \n",
    "    path_cost = 0  \n",
    "    \n",
    "    frontier = [(path_cost, path)] #priority queue contianing cost and path\n",
    "    \n",
    "    while len(frontier) > 0: #check is queue is empty\n",
    "        \n",
    "        path_cost_till_now, path_till_now = pop_frontier(frontier)   #get node with min cost\n",
    "        current_node = path_till_now[-1]    \n",
    "        explored_nodes.append(current_node)    #append min cost node to explored node array\n",
    "        \n",
    "        if current_node in graph:\n",
    "            if current_node == end:    #check if destination is reached \n",
    "                return path_till_now, path_cost_till_now, len(explored_nodes)  #return shortest path , cost and explored nodes   \n",
    "    \n",
    "            \"\"\"\n",
    "            Sorting paths based on cost \n",
    "            \"\"\"\n",
    "        \n",
    "            nodes = []\n",
    "            vals = []\n",
    "            for node, val in graph[current_node].items():\n",
    "                nodes.append(node)\n",
    "                vals.append(val[0])\n",
    "            sorted_node = [y for _,y in sorted(zip(vals,nodes),key=lambda x: x[0])]\n",
    "            sorted_val = sorted(vals)\n",
    "    \n",
    "            for neighbour, cost in zip(sorted_node,sorted_val):  #exploring neighbours of start node  \n",
    "                path_to_neighbour = path_till_now.copy()    \n",
    "                path_to_neighbour.append(neighbour)    \n",
    "    \n",
    "                neighbour_cost = cost + path_cost_till_now   #calculating total cost from start till now \n",
    "                new_element = (neighbour_cost, path_to_neighbour)    \n",
    "    \n",
    "                is_there, indexx, neighbour_old_cost, _ = get_frontier_params_new(neighbour, frontier)    \n",
    "    \n",
    "                if (neighbour not in explored_nodes) and not is_there:    #check if current neighbour not been explored\n",
    "                    frontier.append(new_element)    \n",
    "                \n",
    "                elif is_there:    \n",
    "                    #updating min cost of nodes \n",
    "                    if neighbour_old_cost > neighbour_cost:    \n",
    "                        frontier.pop(indexx)    \n",
    "                        frontier.append(new_element)    \n",
    "    \n",
    "    return [], path_cost, -1  "
   ]
  },
  {
   "cell_type": "code",
   "execution_count": 21,
   "id": "3f6e7481",
   "metadata": {
    "colab": {
     "base_uri": "https://localhost:8080/"
    },
    "id": "3f6e7481",
    "outputId": "0b08c531-7c16-4ccc-d83e-c2c01fb6315b"
   },
   "outputs": [
    {
     "name": "stdout",
     "output_type": "stream",
     "text": [
      "Shortest path : Euston->Warren Street->Oxford Circus->Green Park->Victoria\n",
      "Path cost : 7\n",
      "Nodes Expanded : 35\n"
     ]
    }
   ],
   "source": [
    "path, cost, nodes = uniform_cost_search(tube_dict, 'Euston', 'Victoria')\n",
    "print_path(path, cost, nodes)"
   ]
  },
  {
   "cell_type": "markdown",
   "id": "312a5cd1",
   "metadata": {
    "id": "312a5cd1"
   },
   "source": [
    "Routes to include in your comparison:\n",
    "• Canada Water to Stratford\n",
    "• New Cross Gate to Stepney Green\n",
    "• Ealing Broadway to South Kensington\n",
    "• Baker Street to Wembley Park"
   ]
  },
  {
   "cell_type": "code",
   "execution_count": 25,
   "id": "c001cfe2",
   "metadata": {
    "colab": {
     "base_uri": "https://localhost:8080/"
    },
    "id": "c001cfe2",
    "outputId": "9db99aa9-d88a-4c92-ba7c-b5568c9e6c66"
   },
   "outputs": [
    {
     "name": "stdout",
     "output_type": "stream",
     "text": [
      "Route 1 Canada Water to Stratford\n",
      "Using Depth First Search\n",
      "Shortest path : Canada Water->Bermondsey->London Bridge->Bank/Monument->Moorgate->Liverpool Street->Aldgate East->Whitechapel->Stepney Green->Mile End->Bow Road->Bromley-by-Bow->West Ham->Stratford\n",
      "Path cost : 44\n",
      "Nodes Expanded : 19\n",
      "---------------------------------\n",
      "Using Breadth First Search\n",
      "Shortest path : Canada Water->Canary Wharf->North Greenwich->Canning Town->West Ham->Stratford\n",
      "Path cost : 15\n",
      "Nodes Expanded : 25\n",
      "---------------------------------\n",
      "Using Uniform cost Search\n",
      "Shortest path : Canada Water->Rotherhithe->Wapping->Shadwell->Whitechapel->Stepney Green->Mile End->Stratford\n",
      "Path cost : 14\n",
      "Nodes Expanded : 55\n"
     ]
    }
   ],
   "source": [
    "print(\"Route 1 Canada Water to Stratford\")\n",
    "print(\"Using Depth First Search\")\n",
    "path1, cost1, nodes1 = depth_first_search(tube_dict, 'Canada Water', 'Stratford', 0, [], 0, 30)\n",
    "print_path(path1, cost1, nodes1)\n",
    "print('---------------------------------')\n",
    "print(\"Using Breadth First Search\")\n",
    "path2, cost2, nodes2 = breadth_first_search(tube_dict, 'Canada Water', 'Stratford')\n",
    "print_path(path2, cost2, nodes2)\n",
    "print('---------------------------------')\n",
    "print(\"Using Uniform cost Search\")\n",
    "path3, cost3, nodes3 = uniform_cost_search(tube_dict, 'Canada Water', 'Stratford')\n",
    "print_path(path3, cost3, nodes3)"
   ]
  },
  {
   "cell_type": "code",
   "execution_count": 26,
   "id": "e5e001bb",
   "metadata": {
    "colab": {
     "base_uri": "https://localhost:8080/"
    },
    "id": "e5e001bb",
    "outputId": "5cf99124-8d12-40a7-e96d-5489987943a1"
   },
   "outputs": [
    {
     "name": "stdout",
     "output_type": "stream",
     "text": [
      "Route 2 New Cross Gate to Stepney Green\n",
      "Using Depth First Search\n",
      "Shortest path : New Cross Gate->Surrey Quays->Canada Water->Bermondsey->London Bridge->Bank/Monument->Moorgate->Liverpool Street->Aldgate East->Whitechapel->Stepney Green\n",
      "Path cost : 23\n",
      "Nodes Expanded : 10\n",
      "---------------------------------\n",
      "Using Breadth First Search\n",
      "Shortest path : New Cross Gate->Surrey Quays->Canada Water->Rotherhithe->Wapping->Shadwell->Whitechapel->Stepney Green\n",
      "Path cost : 14\n",
      "Nodes Expanded : 27\n",
      "---------------------------------\n",
      "Using Uniform cost Search\n",
      "Shortest path : New Cross Gate->Surrey Quays->Canada Water->Rotherhithe->Wapping->Shadwell->Whitechapel->Stepney Green\n",
      "Path cost : 14\n",
      "Nodes Expanded : 19\n"
     ]
    }
   ],
   "source": [
    "print(\"Route 2 New Cross Gate to Stepney Green\")\n",
    "print(\"Using Depth First Search\")\n",
    "path1, cost1, nodes1 = depth_first_search(tube_dict, 'New Cross Gate', 'Stepney Green', 0, [], 0, 30)\n",
    "print_path(path1, cost1, nodes1)\n",
    "print('---------------------------------')\n",
    "print(\"Using Breadth First Search\")\n",
    "path2, cost2, nodes2 = breadth_first_search(tube_dict, 'New Cross Gate', 'Stepney Green')\n",
    "print_path(path2, cost2, nodes2)\n",
    "print('---------------------------------')\n",
    "print(\"Using Uniform cost Search\")\n",
    "path3, cost3, nodes3 = uniform_cost_search(tube_dict, 'New Cross Gate', 'Stepney Green')\n",
    "print_path(path3, cost3, nodes3)"
   ]
  },
  {
   "cell_type": "code",
   "execution_count": 12,
   "id": "06e6df53",
   "metadata": {
    "id": "06e6df53"
   },
   "outputs": [
    {
     "name": "stdout",
     "output_type": "stream",
     "text": [
      "Route 3 Ealing Broadway to Stepney Green\n",
      "Using Depth First Search\n",
      "Shortest path : Ealing Broadway->Ealing Common->North Ealing->Park Royal->Alperton->Sudbury Town->Sudbury Hill->South Harrow->Rayners Lane->West Harrow->Harrow-on-the-Hill->Northwick Park->Preston Road->Wembley Park->Finchley Road->Baker Street->Edgware Road->Paddington->Royal Oak->Westbourne Park->Ladbroke Grove->Latimer Road->Shepherd's Bush->Goldhawk Road->Hammersmith->Barons Court->Earls' Court->High Street Kensington->Gloucester Road->South Kensington\n",
      "Path cost : 20\n",
      "Nodes Expanded : 9\n",
      "---------------------------------\n",
      "Using Breadth First Search\n",
      "Shortest path : Ealing Broadway->Ealing Common->Acton Town->Turnham Green->Hammersmith->Barons Court->Earls' Court->Gloucester Road->South Kensington\n",
      "Path cost : 20\n",
      "Nodes Expanded : 49\n",
      "---------------------------------\n",
      "Using Uniform cost Search\n",
      "Shortest path : Ealing Broadway->Ealing Common->Acton Town->Turnham Green->Hammersmith->Barons Court->Earls' Court->Gloucester Road->South Kensington\n",
      "Path cost : 20\n",
      "Nodes Expanded : 53\n"
     ]
    }
   ],
   "source": [
    "print(\"Route 3 Ealing Broadway to Stepney Green\")\n",
    "print(\"Using Depth First Search\")\n",
    "path1, cost1, nodes1 = depth_first_search(tube_dict, 'Ealing Broadway', 'South Kensington', 0, [], 0, 30)\n",
    "print_path(path1, cost1, nodes1)\n",
    "print('---------------------------------')\n",
    "print(\"Using Breadth First Search\")\n",
    "path2, cost2, nodes2 = breadth_first_search(tube_dict, 'Ealing Broadway', 'South Kensington')\n",
    "print_path(path2, cost2, nodes2)\n",
    "print('---------------------------------')\n",
    "print(\"Using Uniform cost Search\")\n",
    "path3, cost3, nodes3 = uniform_cost_search(tube_dict, 'Ealing Broadway', 'South Kensington')\n",
    "print_path(path3, cost3, nodes3)"
   ]
  },
  {
   "cell_type": "code",
   "execution_count": 13,
   "id": "facfb028",
   "metadata": {
    "id": "facfb028"
   },
   "outputs": [
    {
     "name": "stdout",
     "output_type": "stream",
     "text": [
      "Route 4 Baker Street to Wembley Park\n",
      "Using Depth First Search\n",
      "Shortest path : Baker Street->St. John's Wood->Swiss Cottage->Finchley Road->West Hampstead->Kilburn->Willesden Green->Dollis Hill->Neasden->Wembley Park\n",
      "Path cost : 20\n",
      "Nodes Expanded : 9\n",
      "---------------------------------\n",
      "Using Breadth First Search\n",
      "Shortest path : Baker Street->Finchley Road->Wembley Park\n",
      "Path cost : 13\n",
      "Nodes Expanded : 13\n",
      "---------------------------------\n",
      "Using Uniform cost Search\n",
      "Shortest path : Baker Street->Finchley Road->Wembley Park\n",
      "Path cost : 13\n",
      "Nodes Expanded : 83\n"
     ]
    }
   ],
   "source": [
    "print(\"Route 4 Baker Street to Wembley Park\")\n",
    "print(\"Using Depth First Search\")\n",
    "path1, cost1, nodes1 = depth_first_search(tube_dict, 'Baker Street', 'Wembley Park', 0, [], 0,30)\n",
    "print_path(path1, cost1, nodes1)\n",
    "print('---------------------------------')\n",
    "print(\"Using Breadth First Search\")\n",
    "path2, cost2, nodes2 = breadth_first_search(tube_dict, 'Baker Street', 'Wembley Park')\n",
    "print_path(path2, cost2, nodes2)\n",
    "print('---------------------------------')\n",
    "print(\"Using Uniform cost Search\")\n",
    "path3, cost3, nodes3 = uniform_cost_search(tube_dict, 'Baker Street', 'Wembley Park')\n",
    "print_path(path3, cost3, nodes3)"
   ]
  },
  {
   "cell_type": "markdown",
   "id": "333f7a02",
   "metadata": {
    "id": "333f7a02"
   },
   "source": [
    "2.3 Extending the cost function\n",
    "Consider how you might improve the cost function over simply adding the time required between\n",
    "stations. Implement and use your new cost function in USC. "
   ]
  },
  {
   "cell_type": "code",
   "execution_count": 14,
   "id": "871bd1f3",
   "metadata": {
    "id": "871bd1f3"
   },
   "outputs": [],
   "source": [
    "def pop_frontier(frontier):\n",
    "    if len(frontier) == 0:\n",
    "        return None\n",
    "    # copied_list = frontier.copy()\n",
    "    min_val = sys.maxsize\n",
    "    max_values = []\n",
    "    for key, path in frontier:\n",
    "        if key == min_val:\n",
    "            max_values.append(path)\n",
    "        elif key < min_val:\n",
    "            min_val = key\n",
    "            max_values.clear()\n",
    "            max_values.append(path)\n",
    "\n",
    "    max_values = sorted(max_values, key=lambda x: x[-1])\n",
    "    # max_values.sort()\n",
    "    desired_value = max_values[0]\n",
    "    frontier.remove((min_val, max_values[0]))\n",
    "    return min_val, desired_value\n",
    "\n",
    "\n",
    "def get_frontier_params_new(node, frontier):\n",
    "    for i in range(len(frontier)):\n",
    "        curr_tuple = frontier[i]\n",
    "        cost, path = curr_tuple\n",
    "        if path[-1] == node:\n",
    "            return True, i, cost, path\n",
    "\n",
    "    return False, None, None, None\n",
    "\n",
    "#find distance between zone\n",
    "def euclidean_distance(x1,y1,x2,y2):\n",
    "    return ((x1-x2)**2 + (y1-y2)**2 )**(0.5)\n",
    "\n",
    "def uniform_cost_search_extended(graph, start, end):   \n",
    "    \"\"\"\n",
    "    graph - tube dictionary\n",
    "    start - start station\n",
    "    end - final destination\n",
    "    \"\"\"\n",
    "    path = list()    #array to store path data\n",
    "    explored_nodes = list() #array to store explored nodes data   \n",
    "    \n",
    "    if start == end: #check if starting station is same as end station   \n",
    "        return path, 0, len(explored_nodes) #if so return null values    \n",
    "    \n",
    "    path.append(start)  #add starting sation to path data\n",
    "    \n",
    "    path_cost = 0  \n",
    "    \n",
    "    frontier = [(path_cost, path)] #priority queue contianing cost and path\n",
    "    \n",
    "    while len(frontier) > 0: #check is queue is empty\n",
    "        \n",
    "        path_cost_till_now, path_till_now = pop_frontier(frontier)   #get node with min cost\n",
    "        current_node = path_till_now[-1]    \n",
    "        explored_nodes.append(current_node)    #append min cost node to explored node array\n",
    "    \n",
    "        if current_node == end:    #check if destination is reached \n",
    "            return path_till_now, path_cost_till_now, len(explored_nodes)  #return shortest path , cost and explored nodes   \n",
    "    \n",
    "        \"\"\"\n",
    "        Sorting paths based on cost \n",
    "        \"\"\"\n",
    "        if current_node in graph:\n",
    "            nodes = []\n",
    "            vals = []\n",
    "            prime_zone = []\n",
    "            second_zone = []\n",
    "            for node, val in graph[current_node].items():\n",
    "                nodes.append(node)\n",
    "                vals.append(val[0])\n",
    "                prime_zone.append([val[1]])\n",
    "                second_zone.append([val[2]])\n",
    "    \n",
    "        \n",
    "            sorted_node = [y for _,y in sorted(zip(vals,nodes),key=lambda x: x[0])]\n",
    "            sorted_val = sorted(vals)\n",
    "        \n",
    "            sorted_prime_zone = [y for _,y in sorted(zip(vals,prime_zone),key=lambda x: x[0])] \n",
    "            sorted_second_zone = [y for _,y in sorted(zip(vals,second_zone),key=lambda x: x[0])]\n",
    "        \n",
    "            #considering start node zones as 0, 0\n",
    "            init_prime_zone = '0' \n",
    "            init_second_zone = '0'\n",
    "    \n",
    "            for neighbour, cost, pri_zone, sec_zone in zip(sorted_node,sorted_val,sorted_prime_zone,sorted_second_zone):    \n",
    "                path_to_neighbour = path_till_now.copy()    \n",
    "                path_to_neighbour.append(neighbour)    \n",
    "                neighbour_cost = cost + path_cost_till_now \n",
    "            \n",
    "                #extending our cost function\n",
    "                zone_change_cost = 0 \n",
    "                if ord(init_prime_zone)<ord(pri_zone[0]): #check if there is change in primary zone \n",
    "                    zone_change_cost += 2 #if so add add 2 to cost\n",
    "                \n",
    "                if ord(init_second_zone)<ord(sec_zone[0]): #check if there is change in secondary zone\n",
    "                    zone_change_cost += 4 #if so add 4 to cost\n",
    "                \n",
    "                neighbour_cost += zone_change_cost\n",
    "            \n",
    "                init_prime_zone = pri_zone[0]\n",
    "                init_second_zone = sec_zone[0]\n",
    "            \n",
    "                new_element = (neighbour_cost, path_to_neighbour)    \n",
    "    \n",
    "                is_there, indexx, neighbour_old_cost, _ = get_frontier_params_new(neighbour, frontier)    \n",
    "    \n",
    "                if (neighbour not in explored_nodes) and not is_there:    #check if current neighbour not been explored\n",
    "                    frontier.append(new_element)    \n",
    "                \n",
    "                elif is_there:    \n",
    "                    #updating min cost of nodes \n",
    "                    if neighbour_old_cost > neighbour_cost:    \n",
    "                        frontier.pop(indexx)    \n",
    "                        frontier.append(new_element)      \n",
    "    \n",
    "    return [], path_cost, -1  "
   ]
  },
  {
   "cell_type": "code",
   "execution_count": 15,
   "id": "a9c900a7",
   "metadata": {
    "id": "a9c900a7"
   },
   "outputs": [
    {
     "name": "stdout",
     "output_type": "stream",
     "text": [
      "---------------------------------\n",
      "Using Extended Uniform cost Search\n",
      "Shortest path : Wembley Park->Finchley Road->Baker Street->Bond Street->Green Park->Westminster->Waterloo->Bank/Monument->Liverpool Street->Bethnal Green->Mile End\n",
      "Path cost : 37\n",
      "Nodes Expanded : 133\n"
     ]
    }
   ],
   "source": [
    "print('---------------------------------')\n",
    "print(\"Using Extended Uniform cost Search\")\n",
    "path, cost, nodes = uniform_cost_search_extended(tube_dict, 'Wembley Park', 'Mile End')\n",
    "print_path(path, cost, nodes)"
   ]
  },
  {
   "cell_type": "markdown",
   "id": "e70b964b",
   "metadata": {
    "id": "e70b964b"
   },
   "source": [
    "2.4 Heuristic search"
   ]
  },
  {
   "cell_type": "code",
   "execution_count": 16,
   "id": "96abcba8",
   "metadata": {
    "id": "96abcba8"
   },
   "outputs": [],
   "source": [
    "def heuristic(x1,y1, x2,y2): # Calculates the admissible heuristic of a node\n",
    "    \"\"\"\n",
    "    x1 - node 1 primary zone\n",
    "    y1 - node 1 secondary zone\n",
    "    x2 - node 2 primary zone\n",
    "    y2 - node 2 secondary zone\n",
    "    \"\"\"\n",
    "    return abs(x1-x2) + abs(y1-y1) # Return calculation of admissible heuristic (manhattan distance)\n"
   ]
  },
  {
   "cell_type": "code",
   "execution_count": 17,
   "id": "9e1579a1",
   "metadata": {
    "id": "9e1579a1"
   },
   "outputs": [],
   "source": [
    "from queue import PriorityQueue\n",
    "\n",
    "def Astar(graph, start, end):\n",
    "    \n",
    "    admissible_heuristics = {} #dictionary to store node as key and node heuristic as key\n",
    "    \n",
    "    #conside start zones as 0,0\n",
    "    start_prime_zone = '0' \n",
    "    start_second_zone  = '0'\n",
    "    h = heuristic(ord(start_prime_zone),ord(start_second_zone),ord(start_prime_zone),ord(start_second_zone))\n",
    "    \n",
    "    admissible_heuristics[start] = 0 #updating start node heuristic as 0\n",
    "    \n",
    "    visited_nodes = {}  #dictionary to store visited nodes and heuristic of that node\n",
    "    visited_nodes[start] = (h, [start]) \n",
    "    \n",
    "    paths_to_explore = PriorityQueue() #queue to store unexplored path data\n",
    "    paths_to_explore.put((h, [start], 0))\n",
    "    \n",
    "    while not paths_to_explore.empty(): #check if all paths are explored\n",
    "        \n",
    "        _, path, total_cost = paths_to_explore.get() #get a path and cost from queue and remove that element from queue\n",
    "        \n",
    "        current_node = path[-1] #get end element in path\n",
    "        \n",
    "        if current_node in graph: #check if current_element is in path \n",
    "            for neighbor, val in graph[current_node].items(): #get neighbours of current element\n",
    "                \n",
    "                if neighbor in admissible_heuristics: #if neighbour heuristic is calculated than get current neighbour heuristic\n",
    "                    h = admissible_heuristics[neighbor] \n",
    "                else:#else calcualte heuristic \n",
    "                    #val[1][0] - primary zone of node\n",
    "                    #val[2][0] - secondary zone of node\n",
    "                    h = heuristic(ord(start_prime_zone),ord(start_second_zone), ord(val[1][0]),ord(val[2][0]))\n",
    "                    admissible_heuristics[neighbor] = h\n",
    "\n",
    "                #update new cost including heuristic\n",
    "                new_cost = total_cost + val[0] \n",
    "                new_cost_plus_h = new_cost + h\n",
    "            \n",
    "                #get next node to be eplored\n",
    "                if (neighbor not in visited_nodes) or (visited_nodes[neighbor][0]>new_cost_plus_h):\n",
    "                    next_node = (new_cost_plus_h, path+[neighbor], new_cost)\n",
    "                    visited_nodes[neighbor] = next_node \n",
    "                    paths_to_explore.put(next_node) \n",
    "\n",
    "    return visited_nodes[end] #return eplored node with total heuristic and path "
   ]
  },
  {
   "cell_type": "code",
   "execution_count": 18,
   "id": "46fe7420",
   "metadata": {
    "id": "46fe7420"
   },
   "outputs": [
    {
     "name": "stdout",
     "output_type": "stream",
     "text": [
      "Using A star\n",
      "Shortest path : Ealing Broadway->Ealing Common->Acton Town->Turnham Green->Hammersmith->Barons Court->Earls' Court->Gloucester Road->South Kensington\n",
      "Path cost : 20\n",
      "Path heuristic : 21\n"
     ]
    }
   ],
   "source": [
    "print(\"Using A star\")\n",
    "path_a = Astar(tube_dict, 'Ealing Broadway', 'South Kensington')\n",
    "print('Shortest path : ',end='')\n",
    "try:\n",
    "    print(path_a[1][0],end='')\n",
    "    for i in range(1,len(path_a[1])):\n",
    "        print('->',end='')\n",
    "        print(path_a[1][i],end='')\n",
    "    print(f'\\nPath cost : {path_a[2]}')\n",
    "    print(f'Path heuristic : {path_a[0]}')\n",
    "except:\n",
    "    print('Path not found') \n"
   ]
  },
  {
   "cell_type": "code",
   "execution_count": null,
   "id": "7db86392",
   "metadata": {
    "id": "7db86392"
   },
   "outputs": [],
   "source": []
  },
  {
   "cell_type": "code",
   "execution_count": null,
   "id": "f58aa2c5",
   "metadata": {
    "id": "f58aa2c5"
   },
   "outputs": [],
   "source": []
  }
 ],
 "metadata": {
  "colab": {
   "name": "AI_COURSEWORK.ipynb",
   "provenance": []
  },
  "kernelspec": {
   "display_name": "Python 3",
   "language": "python",
   "name": "python3"
  },
  "language_info": {
   "codemirror_mode": {
    "name": "ipython",
    "version": 3
   },
   "file_extension": ".py",
   "mimetype": "text/x-python",
   "name": "python",
   "nbconvert_exporter": "python",
   "pygments_lexer": "ipython3",
   "version": "3.8.8"
  }
 },
 "nbformat": 4,
 "nbformat_minor": 5
}
